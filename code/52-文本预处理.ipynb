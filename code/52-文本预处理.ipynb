{
  "cells": [
    {
      "cell_type": "markdown",
      "metadata": {
        "id": "wTVkRfB2hnx8"
      },
      "source": [
        "#52-文本预处理\n",
        "##本节目录\n",
        "\n",
        "*   [处理步骤](https://colab.research.google.com/drive/1oQH-UYj-DhB-DiUJ3nO2dEprKcNSD4F0#scrollTo=ltSVAkJi-SVF&line=6&uniqifier=1)\n",
        "*   [读取数据集](https://colab.research.google.com/drive/1oQH-UYj-DhB-DiUJ3nO2dEprKcNSD4F0#scrollTo=BE1LFmRneFrp)\n",
        "*   [词元化](https://colab.research.google.com/drive/1oQH-UYj-DhB-DiUJ3nO2dEprKcNSD4F0#scrollTo=FyvsoyYqeMuW&line=6&uniqifier=1)\n",
        "*   [词表](https://colab.research.google.com/drive/1oQH-UYj-DhB-DiUJ3nO2dEprKcNSD4F0#scrollTo=aTVML0Pqeqb1&line=5&uniqifier=1)\n",
        "*   [整合所有功能](https://colab.research.google.com/drive/1oQH-UYj-DhB-DiUJ3nO2dEprKcNSD4F0#scrollTo=cKrAEBT7gplL&line=6&uniqifier=1)\n",
        "\n",
        "\n"
      ]
    },
    {
      "cell_type": "markdown",
      "metadata": {
        "id": "4F0oSvy211p_"
      },
      "source": [
        "##启用GPU"
      ]
    },
    {
      "cell_type": "markdown",
      "metadata": {
        "id": "ltSVAkJi-SVF"
      },
      "source": [
        "#文本预处理\n",
        "##处理步骤\n",
        "\n",
        "---\n",
        "\n",
        "\n",
        "\n",
        "1.   将文本作为字符串加载至内存\n",
        "2.   将字符串拆分为词元（eg.单词和字符）\n",
        "3.   建立词表，将拆分的词元映射到数字索引\n",
        "4.   将文本转换为数字索引序列，方便模型操作\n",
        "\n"
      ]
    },
    {
      "cell_type": "code",
      "execution_count": 77,
      "metadata": {
        "id": "DQBfRqj5-uVZ"
      },
      "outputs": [],
      "source": [
        "import collections\n",
        "import re\n",
        "from d2l import torch as d2l\n",
        "import os"
      ]
    },
    {
      "cell_type": "markdown",
      "metadata": {
        "id": "BE1LFmRneFrp"
      },
      "source": [
        "##读取数据集"
      ]
    },
    {
      "cell_type": "code",
      "execution_count": 78,
      "metadata": {
        "colab": {
          "base_uri": "https://localhost:8080/"
        },
        "id": "U80crdJH-6EL",
        "outputId": "d940c724-b41c-434b-bc44-cd8b0c1ebb80"
      },
      "outputs": [
        {
          "name": "stdout",
          "output_type": "stream",
          "text": [
            "# 文本总行数: 3221\n",
            "the time machine by h g wells\n",
            "twinkled and his usually pale face was flushed and animated the\n"
          ]
        }
      ],
      "source": [
        "#@save\n",
        "# d2l.DATA_HUB['time_machine'] = (d2l.DATA_URL + 'timemachine.txt',\n",
        "#                                 '090b5e7e70c295757f55df93cb0a180b9691891a')\n",
        "\n",
        "def read_time_machine():  #@save\n",
        "    \"\"\"将时间机器数据集加载到文本行的列表中\"\"\"\n",
        "    with open(os.path.join('/home/peihuanni/d2l/data/', 'timemachine.txt'), 'r') as f:\n",
        "        lines = f.readlines()\n",
        "    return [re.sub('[^A-Za-z]+', ' ', line).strip().lower() for line in lines]\n",
        "\n",
        "lines = read_time_machine()\n",
        "print(f'# 文本总行数: {len(lines)}')\n",
        "print(lines[0])\n",
        "print(lines[10])"
      ]
    },
    {
      "cell_type": "markdown",
      "metadata": {
        "id": "FyvsoyYqeMuW"
      },
      "source": [
        "##词元化\n",
        "\n",
        "\n",
        "---\n",
        "\n",
        "\n",
        "\n",
        "> 文本行列表中的每个文本序列被转化成以词元为单位的词元列表\n",
        "\n",
        "\n",
        "\n"
      ]
    },
    {
      "cell_type": "code",
      "execution_count": 79,
      "metadata": {
        "colab": {
          "base_uri": "https://localhost:8080/"
        },
        "id": "KCWY6qVr0i_b",
        "outputId": "58ffaee1-97b3-48d8-a973-1db9795c007e"
      },
      "outputs": [
        {
          "name": "stdout",
          "output_type": "stream",
          "text": [
            "['the', 'time', 'machine', 'by', 'h', 'g', 'wells']\n",
            "[]\n",
            "[]\n",
            "[]\n",
            "[]\n",
            "['i']\n",
            "[]\n",
            "[]\n",
            "['the', 'time', 'traveller', 'for', 'so', 'it', 'will', 'be', 'convenient', 'to', 'speak', 'of', 'him']\n",
            "['was', 'expounding', 'a', 'recondite', 'matter', 'to', 'us', 'his', 'grey', 'eyes', 'shone', 'and']\n",
            "['twinkled', 'and', 'his', 'usually', 'pale', 'face', 'was', 'flushed', 'and', 'animated', 'the']\n"
          ]
        }
      ],
      "source": [
        "#拆分数据为单词或字母\n",
        "def tokenize(lines,token='word'):\n",
        "    \"\"\"将文本行拆分为单词或字符词元\"\"\"\n",
        "    if token == 'word':\n",
        "        return [line.split() for line in lines]\n",
        "# ***************************************************************************\n",
        "        # 也可以表述成下述：\n",
        "        # lines_tokensized = []\n",
        "        # for line in lines:\n",
        "        #     lines_tokensized.append(line.split())\n",
        "        # return lines_tokensized\n",
        "        # 但要注意：不能写成这种形式：\n",
        "        # for line in lines:\n",
        "        #     line = line.split()\n",
        "        # return line\n",
        "        # 因为lines已经定义成了一维列表，这样在把虽然line.split()已经分割成了一维列表，但是最终还是会以字符串的形式存入\n",
        "# ****************************************************************************\n",
        "    elif token == 'char':\n",
        "        return [list(line) for line in lines]\n",
        "    else:\n",
        "        print('error: Unkown type:' + token)\n",
        "\n",
        "tokens = tokenize(lines=lines, token='word')\n",
        "for i in range(11):\n",
        "    print(tokens[i])"
      ]
    },
    {
      "cell_type": "markdown",
      "metadata": {
        "id": "aTVML0Pqeqb1"
      },
      "source": [
        "## 词表\n",
        "\n",
        "\n",
        "---\n",
        "\n",
        "\n",
        "> 词表(vocabulary):是一个能让词元和数字索引互相映射的字典\n",
        "\n",
        "\n",
        "\n",
        "> 语料(corpus):是文本中各个词元的出现频率的统计结果\n",
        "\n",
        "\n",
        "\n",
        "> 根据词元出现频率分配数字索引，同时移除较少的词元降低词表的稀疏程度\n",
        "\n",
        "\n",
        "\n",
        "> 特殊词元:\n",
        "1.   未知词元<unk>\n",
        "2.   填充词元<pad>\n",
        "3.   序列开始词元<bos>\n",
        "4.   序列结束词元<eos>\n",
        "\n",
        "\n",
        "\n",
        "\n",
        "\n",
        "\n",
        "\n"
      ]
    },
    {
      "cell_type": "code",
      "execution_count": 80,
      "metadata": {
        "id": "carzgtSy7H4n"
      },
      "outputs": [],
      "source": [
        "def count_corpus(tokens):\n",
        "    \"\"\"统计词元的频率\"\"\"\n",
        "    #这里的tokens是1D列表或2D列表\n",
        "    if len(tokens) == 0 or isinstance(tokens[0],list):        \n",
        "        tokens = [token for line in tokens for token in line]\n",
        "    return collections.Counter(tokens)\n",
        "        #将词元列表展平成一个列表\n",
        "        # ***********************************************************\n",
        "        #另一种实现\n",
        "        # corpus = []\n",
        "        # for line in tokens:\n",
        "        #     for token in line:\n",
        "        #         corpus.append(token)\n",
        "    # return collections.Counter(corpus) \n",
        "    # ***********************************************************\n",
        "\n",
        "class Vocab:\n",
        "    \"\"\"文本词表\"\"\"\n",
        "    def __init__(self,tokens=None,min_freq=0,reserved_tokens=None):\n",
        "        if tokens is None:\n",
        "            tokens = []\n",
        "        if reserved_tokens is None:\n",
        "            reserved_tokens = []\n",
        "        #按出现频率排序\n",
        "        counter = count_corpus(tokens)\n",
        "        # 展平成一维列表。形如：[]\n",
        "        self._token_freqs = sorted(counter.items(),key=lambda x: x[1],reverse=True)\n",
        "        #未知词元的索引为0\n",
        "        self.idx_to_token = ['<unk>'] + reserved_tokens\n",
        "        self.token_to_idx = {token: idx for idx,token in enumerate(self.idx_to_token)}\n",
        "        # **************************************************************************************\n",
        "        # self.token_to_idx = {}\n",
        "        # for idx, token in enumerate(self.idx_to_token):\n",
        "        #     self.token_to_idx.update({token: idx})\n",
        "        # **************************************************************************************\n",
        "        for token,freq in self._token_freqs:\n",
        "            if freq < min_freq:\n",
        "                break\n",
        "            if token not in self.token_to_idx:\n",
        "                self.idx_to_token.append(token)\n",
        "                self.token_to_idx[token] = len(self.idx_to_token) - 1\n",
        "\n",
        "    def __len__(self):\n",
        "        return len(self.idx_to_token)\n",
        "\n",
        "    def __getitem__(self,tokens):\n",
        "        if not isinstance(tokens,(list,tuple)):\n",
        "            return self.token_to_idx.get(tokens,self.unk)\n",
        "        return [self.__getitem__(token) for token in tokens]\n",
        "\n",
        "    def to_tokens(self,indices):\n",
        "        if not isinstance(indices,(list,tuple)):\n",
        "            return self.idx_to_token[indices]\n",
        "        return [self.idx_to_token[index] for index in indices]\n",
        "\n",
        "    @property\n",
        "    def unk(self): #未知词元的索引为0\n",
        "        return 0\n",
        "\n",
        "    @property\n",
        "    def token_freqs(self):\n",
        "        return self._token_freqs\n",
        "\n"
      ]
    },
    {
      "cell_type": "code",
      "execution_count": 81,
      "metadata": {},
      "outputs": [],
      "source": [
        "test = [['The', 'Time', 'Machine,', 'by', 'H.', 'G.', 'Wells', '[1898]'],\n",
        "[],\n",
        "[],\n",
        "[],\n",
        "[],\n",
        "['I'],\n",
        "[],\n",
        "[],\n",
        "['The', 'Time', 'Traveller', '(for', 'so', 'it', 'will', 'be', 'convenient', 'to', 'speak', 'of', 'him)'],\n",
        "['was', 'expounding', 'a', 'recondite', 'matter', 'to', 'us.', 'His', 'grey', 'eyes', 'shone', 'and'],\n",
        "['twinkled,', 'and', 'his', 'usually', 'pale', 'face', 'was', 'flushed', 'and', 'animated.', 'The']]\n",
        "\n",
        "result = count_corpus(test)"
      ]
    },
    {
      "cell_type": "code",
      "execution_count": 82,
      "metadata": {
        "colab": {
          "base_uri": "https://localhost:8080/"
        },
        "id": "-NskhH8ICP0b",
        "outputId": "80e6d765-eb8a-47f8-ca73-b6a38cabee3f"
      },
      "outputs": [
        {
          "name": "stdout",
          "output_type": "stream",
          "text": [
            "[('<unk>', 0), ('the', 1), ('i', 2), ('and', 3), ('of', 4), ('a', 5), ('to', 6), ('was', 7), ('in', 8), ('that', 9)]\n"
          ]
        }
      ],
      "source": [
        "vocab = Vocab(tokens)\n",
        "print(list(vocab.token_to_idx.items())[:10])"
      ]
    },
    {
      "cell_type": "code",
      "execution_count": 83,
      "metadata": {
        "colab": {
          "base_uri": "https://localhost:8080/"
        },
        "id": "zT9px1-TCZ4H",
        "outputId": "16e6c9a6-58f5-4826-b6b9-4a2ce3857d66"
      },
      "outputs": [
        {
          "name": "stdout",
          "output_type": "stream",
          "text": [
            "token: ['the', 'time', 'machine', 'by', 'h', 'g', 'wells']\n",
            "id: [1, 19, 50, 40, 2183, 2184, 400]\n",
            "token: ['twinkled', 'and', 'his', 'usually', 'pale', 'face', 'was', 'flushed', 'and', 'animated', 'the']\n",
            "id: [2186, 3, 25, 1044, 362, 113, 7, 1421, 3, 1045, 1]\n"
          ]
        }
      ],
      "source": [
        "for i in [0,10]:\n",
        "    print('token:',tokens[i])\n",
        "    print('id:',vocab[tokens[i]])"
      ]
    },
    {
      "cell_type": "markdown",
      "metadata": {
        "id": "cKrAEBT7gplL"
      },
      "source": [
        "##整合所有功能\n",
        "\n",
        "\n",
        "---\n",
        "\n",
        "\n",
        "\n",
        "1.   读取清洗后的文件\n",
        "2.   词元化\n",
        "3.   建立词表\n",
        "\n"
      ]
    },
    {
      "cell_type": "code",
      "execution_count": 84,
      "metadata": {
        "colab": {
          "base_uri": "https://localhost:8080/"
        },
        "id": "v1mgkKD6CvE_",
        "outputId": "2fba3c07-3bb9-46c2-e1fc-e0c5fccba128"
      },
      "outputs": [
        {
          "data": {
            "text/plain": [
              "(170580, 28)"
            ]
          },
          "execution_count": 84,
          "metadata": {},
          "output_type": "execute_result"
        }
      ],
      "source": [
        "def load_corpus_time_machine(max_tokens=-1):\n",
        "    \"\"\"返回数据集的词元索引列表和词表\"\"\"\n",
        "    lines = read_time_machine()\n",
        "    tokens = tokenize(lines,'char')\n",
        "    vocab = Vocab(tokens)\n",
        "    \"\"\"将所有文本行展平到一个列表\"\"\"\n",
        "    corpus = [vocab[token] for line in tokens for token in line]\n",
        "    if max_tokens > 0 :\n",
        "        corpus = corpus[:max_tokens]\n",
        "    return corpus,vocab\n",
        "\n",
        "corpus,vocab = load_corpus_time_machine()\n",
        "len(corpus),len(vocab)"
      ]
    }
  ],
  "metadata": {
    "accelerator": "GPU",
    "colab": {
      "collapsed_sections": [],
      "name": "pre-prosses.ipynb",
      "provenance": []
    },
    "kernelspec": {
      "display_name": "Python 3",
      "name": "python3"
    },
    "language_info": {
      "codemirror_mode": {
        "name": "ipython",
        "version": 3
      },
      "file_extension": ".py",
      "mimetype": "text/x-python",
      "name": "python",
      "nbconvert_exporter": "python",
      "pygments_lexer": "ipython3",
      "version": "3.9.19"
    }
  },
  "nbformat": 4,
  "nbformat_minor": 0
}
